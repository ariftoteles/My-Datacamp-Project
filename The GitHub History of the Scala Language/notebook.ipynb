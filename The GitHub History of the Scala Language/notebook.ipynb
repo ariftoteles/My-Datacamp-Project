{
 "cells": [
  {
   "cell_type": "markdown",
   "metadata": {
    "dc": {
     "key": "5"
    },
    "deletable": false,
    "editable": false,
    "run_control": {
     "frozen": true
    },
    "tags": [
     "context"
    ]
   },
   "source": [
    "## 1. Scala's real-world project repository data\n",
    "<p>With almost 30k commits and a history spanning over ten years, Scala is a mature programming language. It is a general-purpose programming language that has recently become another prominent language for data scientists.</p>\n",
    "<p>Scala is also an open source project. Open source projects have the advantage that their entire development histories -- who made changes, what was changed, code reviews, etc. -- publicly available. </p>\n",
    "<p>We're going to read in, clean up, and visualize the real world project repository of Scala that spans data from a version control system (Git) as well as a project hosting site (GitHub). We will find out who has had the most influence on its development and who are the experts.</p>\n",
    "<p>The dataset we will use, which has been previously mined and extracted directly from GitHub, is comprised of two files:</p>\n",
    "<ol>\n",
    "<li><code>pulls.csv</code> contains the basic information about the pull requests.</li>\n",
    "<li><code>pull_files.csv</code> contains the files that were modified by each pull request.</li>\n",
    "</ol>"
   ]
  },
  {
   "cell_type": "code",
   "execution_count": 119,
   "metadata": {
    "dc": {
     "key": "5"
    },
    "tags": [
     "sample_code"
    ]
   },
   "outputs": [
    {
     "data": {
      "text/html": [
       "<div>\n",
       "<style scoped>\n",
       "    .dataframe tbody tr th:only-of-type {\n",
       "        vertical-align: middle;\n",
       "    }\n",
       "\n",
       "    .dataframe tbody tr th {\n",
       "        vertical-align: top;\n",
       "    }\n",
       "\n",
       "    .dataframe thead th {\n",
       "        text-align: right;\n",
       "    }\n",
       "</style>\n",
       "<table border=\"1\" class=\"dataframe\">\n",
       "  <thead>\n",
       "    <tr style=\"text-align: right;\">\n",
       "      <th></th>\n",
       "      <th>pid</th>\n",
       "      <th>user</th>\n",
       "      <th>date</th>\n",
       "    </tr>\n",
       "  </thead>\n",
       "  <tbody>\n",
       "    <tr>\n",
       "      <td>0</td>\n",
       "      <td>163314316</td>\n",
       "      <td>hrhino</td>\n",
       "      <td>2018-01-16T23:29:16Z</td>\n",
       "    </tr>\n",
       "    <tr>\n",
       "      <td>1</td>\n",
       "      <td>163061502</td>\n",
       "      <td>joroKr21</td>\n",
       "      <td>2018-01-15T23:44:52Z</td>\n",
       "    </tr>\n",
       "    <tr>\n",
       "      <td>2</td>\n",
       "      <td>163057333</td>\n",
       "      <td>mkeskells</td>\n",
       "      <td>2018-01-15T23:05:06Z</td>\n",
       "    </tr>\n",
       "    <tr>\n",
       "      <td>3</td>\n",
       "      <td>162985594</td>\n",
       "      <td>lrytz</td>\n",
       "      <td>2018-01-15T15:52:39Z</td>\n",
       "    </tr>\n",
       "    <tr>\n",
       "      <td>4</td>\n",
       "      <td>162838837</td>\n",
       "      <td>zuvizudar</td>\n",
       "      <td>2018-01-14T19:16:16Z</td>\n",
       "    </tr>\n",
       "  </tbody>\n",
       "</table>\n",
       "</div>"
      ],
      "text/plain": [
       "         pid       user                  date\n",
       "0  163314316     hrhino  2018-01-16T23:29:16Z\n",
       "1  163061502   joroKr21  2018-01-15T23:44:52Z\n",
       "2  163057333  mkeskells  2018-01-15T23:05:06Z\n",
       "3  162985594      lrytz  2018-01-15T15:52:39Z\n",
       "4  162838837  zuvizudar  2018-01-14T19:16:16Z"
      ]
     },
     "metadata": {},
     "output_type": "display_data"
    },
    {
     "data": {
      "text/html": [
       "<div>\n",
       "<style scoped>\n",
       "    .dataframe tbody tr th:only-of-type {\n",
       "        vertical-align: middle;\n",
       "    }\n",
       "\n",
       "    .dataframe tbody tr th {\n",
       "        vertical-align: top;\n",
       "    }\n",
       "\n",
       "    .dataframe thead th {\n",
       "        text-align: right;\n",
       "    }\n",
       "</style>\n",
       "<table border=\"1\" class=\"dataframe\">\n",
       "  <thead>\n",
       "    <tr style=\"text-align: right;\">\n",
       "      <th></th>\n",
       "      <th>pid</th>\n",
       "      <th>file</th>\n",
       "    </tr>\n",
       "  </thead>\n",
       "  <tbody>\n",
       "    <tr>\n",
       "      <td>0</td>\n",
       "      <td>163314316</td>\n",
       "      <td>test/files/pos/t5638/Among.java</td>\n",
       "    </tr>\n",
       "    <tr>\n",
       "      <td>1</td>\n",
       "      <td>163314316</td>\n",
       "      <td>test/files/pos/t5638/Usage.scala</td>\n",
       "    </tr>\n",
       "    <tr>\n",
       "      <td>2</td>\n",
       "      <td>163314316</td>\n",
       "      <td>test/files/pos/t9291.scala</td>\n",
       "    </tr>\n",
       "    <tr>\n",
       "      <td>3</td>\n",
       "      <td>163314316</td>\n",
       "      <td>test/files/run/t8348.check</td>\n",
       "    </tr>\n",
       "    <tr>\n",
       "      <td>4</td>\n",
       "      <td>163314316</td>\n",
       "      <td>test/files/run/t8348/TableColumn.java</td>\n",
       "    </tr>\n",
       "  </tbody>\n",
       "</table>\n",
       "</div>"
      ],
      "text/plain": [
       "         pid                                   file\n",
       "0  163314316        test/files/pos/t5638/Among.java\n",
       "1  163314316       test/files/pos/t5638/Usage.scala\n",
       "2  163314316             test/files/pos/t9291.scala\n",
       "3  163314316             test/files/run/t8348.check\n",
       "4  163314316  test/files/run/t8348/TableColumn.java"
      ]
     },
     "execution_count": 119,
     "metadata": {},
     "output_type": "execute_result"
    }
   ],
   "source": [
    "# Importing pandas\n",
    "import pandas as pd\n",
    "\n",
    "# Loading in the data\n",
    "pulls = pd.read_csv('datasets/pulls.csv')\n",
    "pull_files = pd.read_csv('datasets/pull_files.csv') \n",
    "display(pulls.head())\n",
    "pull_files.head()"
   ]
  },
  {
   "cell_type": "markdown",
   "metadata": {
    "dc": {
     "key": "12"
    },
    "deletable": false,
    "editable": false,
    "run_control": {
     "frozen": true
    },
    "tags": [
     "context"
    ]
   },
   "source": [
    "## 2. Cleaning the data\n",
    "<p>The raw data extracted from GitHub contains dates in the ISO8601 format. However, <code>pandas</code> imports them as regular strings. To make our analysis easier, we need to convert the strings into Python's <code>DateTime</code> objects. <code>DateTime</code> objects have the important property that they can be compared and sorted.</p>\n",
    "<p>The pull request times are all in UTC (also known as Coordinated Universal Time). The commit times, however, are in the local time of the author with time zone information (number of hours difference from UTC). To make comparisons easy, we should convert all times to UTC.</p>"
   ]
  },
  {
   "cell_type": "code",
   "execution_count": 121,
   "metadata": {
    "dc": {
     "key": "12"
    },
    "tags": [
     "sample_code"
    ]
   },
   "outputs": [
    {
     "name": "stdout",
     "output_type": "stream",
     "text": [
      "<class 'pandas.core.frame.DataFrame'>\n",
      "RangeIndex: 6200 entries, 0 to 6199\n",
      "Data columns (total 3 columns):\n",
      "pid     6200 non-null int64\n",
      "user    6200 non-null object\n",
      "date    6200 non-null datetime64[ns, UTC]\n",
      "dtypes: datetime64[ns, UTC](1), int64(1), object(1)\n",
      "memory usage: 121.2+ KB\n"
     ]
    }
   ],
   "source": [
    "# Convert the date for the pulls object\n",
    "pulls['date']= pd.to_datetime(pulls['date'], utc=True)\n",
    "pulls.info()"
   ]
  },
  {
   "cell_type": "markdown",
   "metadata": {
    "dc": {
     "key": "19"
    },
    "deletable": false,
    "editable": false,
    "run_control": {
     "frozen": true
    },
    "tags": [
     "context"
    ]
   },
   "source": [
    "## 3. Merging the DataFrames\n",
    "<p>The data extracted comes in two separate files. Merging the two DataFrames will make it easier for us to analyze the data in the future tasks.</p>"
   ]
  },
  {
   "cell_type": "code",
   "execution_count": 122,
   "metadata": {
    "dc": {
     "key": "19"
    },
    "tags": [
     "sample_code"
    ]
   },
   "outputs": [
    {
     "data": {
      "text/html": [
       "<div>\n",
       "<style scoped>\n",
       "    .dataframe tbody tr th:only-of-type {\n",
       "        vertical-align: middle;\n",
       "    }\n",
       "\n",
       "    .dataframe tbody tr th {\n",
       "        vertical-align: top;\n",
       "    }\n",
       "\n",
       "    .dataframe thead th {\n",
       "        text-align: right;\n",
       "    }\n",
       "</style>\n",
       "<table border=\"1\" class=\"dataframe\">\n",
       "  <thead>\n",
       "    <tr style=\"text-align: right;\">\n",
       "      <th></th>\n",
       "      <th>pid</th>\n",
       "      <th>user</th>\n",
       "      <th>date</th>\n",
       "      <th>file</th>\n",
       "    </tr>\n",
       "  </thead>\n",
       "  <tbody>\n",
       "    <tr>\n",
       "      <td>0</td>\n",
       "      <td>163314316</td>\n",
       "      <td>hrhino</td>\n",
       "      <td>2018-01-16 23:29:16+00:00</td>\n",
       "      <td>test/files/pos/t5638/Among.java</td>\n",
       "    </tr>\n",
       "    <tr>\n",
       "      <td>1</td>\n",
       "      <td>163314316</td>\n",
       "      <td>hrhino</td>\n",
       "      <td>2018-01-16 23:29:16+00:00</td>\n",
       "      <td>test/files/pos/t5638/Usage.scala</td>\n",
       "    </tr>\n",
       "    <tr>\n",
       "      <td>2</td>\n",
       "      <td>163314316</td>\n",
       "      <td>hrhino</td>\n",
       "      <td>2018-01-16 23:29:16+00:00</td>\n",
       "      <td>test/files/pos/t9291.scala</td>\n",
       "    </tr>\n",
       "    <tr>\n",
       "      <td>3</td>\n",
       "      <td>163314316</td>\n",
       "      <td>hrhino</td>\n",
       "      <td>2018-01-16 23:29:16+00:00</td>\n",
       "      <td>test/files/run/t8348.check</td>\n",
       "    </tr>\n",
       "    <tr>\n",
       "      <td>4</td>\n",
       "      <td>163314316</td>\n",
       "      <td>hrhino</td>\n",
       "      <td>2018-01-16 23:29:16+00:00</td>\n",
       "      <td>test/files/run/t8348/TableColumn.java</td>\n",
       "    </tr>\n",
       "  </tbody>\n",
       "</table>\n",
       "</div>"
      ],
      "text/plain": [
       "         pid    user                      date  \\\n",
       "0  163314316  hrhino 2018-01-16 23:29:16+00:00   \n",
       "1  163314316  hrhino 2018-01-16 23:29:16+00:00   \n",
       "2  163314316  hrhino 2018-01-16 23:29:16+00:00   \n",
       "3  163314316  hrhino 2018-01-16 23:29:16+00:00   \n",
       "4  163314316  hrhino 2018-01-16 23:29:16+00:00   \n",
       "\n",
       "                                    file  \n",
       "0        test/files/pos/t5638/Among.java  \n",
       "1       test/files/pos/t5638/Usage.scala  \n",
       "2             test/files/pos/t9291.scala  \n",
       "3             test/files/run/t8348.check  \n",
       "4  test/files/run/t8348/TableColumn.java  "
      ]
     },
     "execution_count": 122,
     "metadata": {},
     "output_type": "execute_result"
    }
   ],
   "source": [
    "# Merge the two DataFrames\n",
    "data = pd.merge(pulls,pull_files)\n",
    "data.head()"
   ]
  },
  {
   "cell_type": "markdown",
   "metadata": {
    "dc": {
     "key": "26"
    },
    "deletable": false,
    "editable": false,
    "run_control": {
     "frozen": true
    },
    "tags": [
     "context"
    ]
   },
   "source": [
    "## 4. Is the project still actively maintained?\n",
    "<p>The activity in an open source project is not very consistent. Some projects might be active for many years after the initial release, while others can slowly taper out into oblivion. Before committing to contributing to a project, it is important to understand the state of the project. Is development going steadily, or is there a drop? Has the project been abandoned altogether?</p>\n",
    "<p>The data used in this project was collected in January of 2018. We are interested in the evolution of the number of contributions up to that date.</p>\n",
    "<p>For Scala, we will do this by plotting a chart of the project's activity. We will calculate the number of pull requests submitted each (calendar) month during the project's lifetime. We will then plot these numbers to see the trend of contributions.</p>"
   ]
  },
  {
   "cell_type": "code",
   "execution_count": 123,
   "metadata": {
    "dc": {
     "key": "26"
    },
    "tags": [
     "sample_code"
    ]
   },
   "outputs": [
    {
     "data": {
      "image/png": "[encoded data removed]",
      "text/plain": [
       "<Figure size 432x288 with 1 Axes>"
      ]
     },
     "metadata": {
      "needs_background": "light"
     },
     "output_type": "display_data"
    }
   ],
   "source": [
    "%matplotlib inline\n",
    "import matplotlib.pyplot as plt\n",
    "# Create a column that will store the month and the year, as a string\n",
    "pulls['month_year'] = pulls['date'].apply(lambda i: str(i.year)+ '-' + str(i.month))\n",
    "\n",
    "# Group by month_year and count the pull requests\n",
    "counts = pulls.groupby('month_year').agg({'date': 'count'})\n",
    "\n",
    "# Plot the results\n",
    "plt.plot(counts.index, counts['date'])\n",
    "plt.show()"
   ]
  },
  {
   "cell_type": "markdown",
   "metadata": {
    "dc": {
     "key": "33"
    },
    "deletable": false,
    "editable": false,
    "run_control": {
     "frozen": true
    },
    "tags": [
     "context"
    ]
   },
   "source": [
    "## 5. Is there camaraderie in the project?\n",
    "<p>The organizational structure varies from one project to another, and it can influence your success as a contributor. A project that has a very small community might not be the best one to start working on. The small community might indicate a high barrier of entry. This can be caused by several factors, including a community that is reluctant to accept pull requests from \"outsiders,\" that the code base is hard to work with, etc. However, a large community can serve as an indicator that the project is regularly accepting pull requests from new contributors. Such a project would be a good place to start.</p>\n",
    "<p>In order to evaluate the dynamics of the community, we will plot a histogram of the number of pull requests submitted by each user. A distribution that shows that there are few people that only contribute a small number of pull requests can be used as in indicator that the project is not welcoming of new contributors. </p>"
   ]
  },
  {
   "cell_type": "code",
   "execution_count": 124,
   "metadata": {
    "dc": {
     "key": "33"
    },
    "tags": [
     "sample_code"
    ]
   },
   "outputs": [
    {
     "data": {
      "image/png": "[encoded data removed]",
      "text/plain": [
       "<Figure size 432x288 with 1 Axes>"
      ]
     },
     "metadata": {
      "needs_background": "light"
     },
     "output_type": "display_data"
    }
   ],
   "source": [
    "# Required for matplotlib\n",
    "%matplotlib inline\n",
    "\n",
    "# Group by the submitter\n",
    "by_user = data.groupby('user').agg({'pid':'count'})\n",
    "\n",
    "# Plot the histogram\n",
    "plt.hist(by_user['pid'])\n",
    "plt.show()"
   ]
  },
  {
   "cell_type": "markdown",
   "metadata": {
    "dc": {
     "key": "40"
    },
    "deletable": false,
    "editable": false,
    "run_control": {
     "frozen": true
    },
    "tags": [
     "context"
    ]
   },
   "source": [
    "## 6. What files were changed in the last ten pull requests?\n",
    "<p>Choosing the right place to make a contribution is as important as choosing the project to contribute to. Some parts of the code might be stable, some might be dead. Contributing there might not have the most impact. Therefore it is important to understand the parts of the system that have been recently changed. This allows us to pinpoint the \"hot\" areas of the code where most of the activity is happening. Focusing on those parts might not the most effective use of our times.</p>"
   ]
  },
  {
   "cell_type": "code",
   "execution_count": 125,
   "metadata": {
    "dc": {
     "key": "40"
    },
    "tags": [
     "sample_code"
    ]
   },
   "outputs": [
    {
     "name": "stdout",
     "output_type": "stream",
     "text": [
      "<class 'pandas.core.frame.DataFrame'>\n",
      "RangeIndex: 6200 entries, 0 to 6199\n",
      "Data columns (total 4 columns):\n",
      "pid           6200 non-null int64\n",
      "user          6200 non-null object\n",
      "date          6200 non-null datetime64[ns, UTC]\n",
      "month_year    6200 non-null object\n",
      "dtypes: datetime64[ns, UTC](1), int64(1), object(2)\n",
      "memory usage: 145.4+ KB\n"
     ]
    },
    {
     "data": {
      "text/plain": [
       "None"
      ]
     },
     "metadata": {},
     "output_type": "display_data"
    },
    {
     "data": {
      "text/html": [
       "<div>\n",
       "<style scoped>\n",
       "    .dataframe tbody tr th:only-of-type {\n",
       "        vertical-align: middle;\n",
       "    }\n",
       "\n",
       "    .dataframe tbody tr th {\n",
       "        vertical-align: top;\n",
       "    }\n",
       "\n",
       "    .dataframe thead th {\n",
       "        text-align: right;\n",
       "    }\n",
       "</style>\n",
       "<table border=\"1\" class=\"dataframe\">\n",
       "  <thead>\n",
       "    <tr style=\"text-align: right;\">\n",
       "      <th></th>\n",
       "      <th>pid</th>\n",
       "      <th>file</th>\n",
       "    </tr>\n",
       "  </thead>\n",
       "  <tbody>\n",
       "    <tr>\n",
       "      <td>0</td>\n",
       "      <td>163314316</td>\n",
       "      <td>test/files/pos/t5638/Among.java</td>\n",
       "    </tr>\n",
       "    <tr>\n",
       "      <td>1</td>\n",
       "      <td>163314316</td>\n",
       "      <td>test/files/pos/t5638/Usage.scala</td>\n",
       "    </tr>\n",
       "    <tr>\n",
       "      <td>2</td>\n",
       "      <td>163314316</td>\n",
       "      <td>test/files/pos/t9291.scala</td>\n",
       "    </tr>\n",
       "    <tr>\n",
       "      <td>3</td>\n",
       "      <td>163314316</td>\n",
       "      <td>test/files/run/t8348.check</td>\n",
       "    </tr>\n",
       "    <tr>\n",
       "      <td>4</td>\n",
       "      <td>163314316</td>\n",
       "      <td>test/files/run/t8348/TableColumn.java</td>\n",
       "    </tr>\n",
       "    <tr>\n",
       "      <td>5</td>\n",
       "      <td>163314316</td>\n",
       "      <td>test/files/run/t8348/TableColumnImpl.java</td>\n",
       "    </tr>\n",
       "    <tr>\n",
       "      <td>6</td>\n",
       "      <td>163314316</td>\n",
       "      <td>test/files/run/t8348/Test.scala</td>\n",
       "    </tr>\n",
       "    <tr>\n",
       "      <td>7</td>\n",
       "      <td>163061502</td>\n",
       "      <td>src/library/scala/concurrent/Lock.scala</td>\n",
       "    </tr>\n",
       "    <tr>\n",
       "      <td>8</td>\n",
       "      <td>163057333</td>\n",
       "      <td>src/compiler/scala/tools/nsc/profile/AsyncHelp...</td>\n",
       "    </tr>\n",
       "    <tr>\n",
       "      <td>9</td>\n",
       "      <td>163057333</td>\n",
       "      <td>src/compiler/scala/tools/nsc/profile/Profiler....</td>\n",
       "    </tr>\n",
       "  </tbody>\n",
       "</table>\n",
       "</div>"
      ],
      "text/plain": [
       "         pid                                               file\n",
       "0  163314316                    test/files/pos/t5638/Among.java\n",
       "1  163314316                   test/files/pos/t5638/Usage.scala\n",
       "2  163314316                         test/files/pos/t9291.scala\n",
       "3  163314316                         test/files/run/t8348.check\n",
       "4  163314316              test/files/run/t8348/TableColumn.java\n",
       "5  163314316          test/files/run/t8348/TableColumnImpl.java\n",
       "6  163314316                    test/files/run/t8348/Test.scala\n",
       "7  163061502            src/library/scala/concurrent/Lock.scala\n",
       "8  163057333  src/compiler/scala/tools/nsc/profile/AsyncHelp...\n",
       "9  163057333  src/compiler/scala/tools/nsc/profile/Profiler...."
      ]
     },
     "metadata": {},
     "output_type": "display_data"
    },
    {
     "data": {
      "text/html": [
       "<div>\n",
       "<style scoped>\n",
       "    .dataframe tbody tr th:only-of-type {\n",
       "        vertical-align: middle;\n",
       "    }\n",
       "\n",
       "    .dataframe tbody tr th {\n",
       "        vertical-align: top;\n",
       "    }\n",
       "\n",
       "    .dataframe thead th {\n",
       "        text-align: right;\n",
       "    }\n",
       "</style>\n",
       "<table border=\"1\" class=\"dataframe\">\n",
       "  <thead>\n",
       "    <tr style=\"text-align: right;\">\n",
       "      <th></th>\n",
       "      <th>pid</th>\n",
       "      <th>user</th>\n",
       "      <th>date</th>\n",
       "      <th>month_year</th>\n",
       "    </tr>\n",
       "  </thead>\n",
       "  <tbody>\n",
       "    <tr>\n",
       "      <td>0</td>\n",
       "      <td>163314316</td>\n",
       "      <td>hrhino</td>\n",
       "      <td>2018-01-16 23:29:16+00:00</td>\n",
       "      <td>2018-1</td>\n",
       "    </tr>\n",
       "    <tr>\n",
       "      <td>1</td>\n",
       "      <td>163061502</td>\n",
       "      <td>joroKr21</td>\n",
       "      <td>2018-01-15 23:44:52+00:00</td>\n",
       "      <td>2018-1</td>\n",
       "    </tr>\n",
       "    <tr>\n",
       "      <td>2</td>\n",
       "      <td>163057333</td>\n",
       "      <td>mkeskells</td>\n",
       "      <td>2018-01-15 23:05:06+00:00</td>\n",
       "      <td>2018-1</td>\n",
       "    </tr>\n",
       "    <tr>\n",
       "      <td>3</td>\n",
       "      <td>162985594</td>\n",
       "      <td>lrytz</td>\n",
       "      <td>2018-01-15 15:52:39+00:00</td>\n",
       "      <td>2018-1</td>\n",
       "    </tr>\n",
       "    <tr>\n",
       "      <td>4</td>\n",
       "      <td>162838837</td>\n",
       "      <td>zuvizudar</td>\n",
       "      <td>2018-01-14 19:16:16+00:00</td>\n",
       "      <td>2018-1</td>\n",
       "    </tr>\n",
       "    <tr>\n",
       "      <td>5</td>\n",
       "      <td>162765232</td>\n",
       "      <td>howtonotwin</td>\n",
       "      <td>2018-01-13 04:37:17+00:00</td>\n",
       "      <td>2018-1</td>\n",
       "    </tr>\n",
       "    <tr>\n",
       "      <td>6</td>\n",
       "      <td>162643301</td>\n",
       "      <td>hrhino</td>\n",
       "      <td>2018-01-12 14:29:49+00:00</td>\n",
       "      <td>2018-1</td>\n",
       "    </tr>\n",
       "    <tr>\n",
       "      <td>7</td>\n",
       "      <td>162256029</td>\n",
       "      <td>mkeskells</td>\n",
       "      <td>2018-01-10 23:20:03+00:00</td>\n",
       "      <td>2018-1</td>\n",
       "    </tr>\n",
       "    <tr>\n",
       "      <td>8</td>\n",
       "      <td>162197834</td>\n",
       "      <td>SethTisue</td>\n",
       "      <td>2018-01-10 18:31:25+00:00</td>\n",
       "      <td>2018-1</td>\n",
       "    </tr>\n",
       "    <tr>\n",
       "      <td>9</td>\n",
       "      <td>162011899</td>\n",
       "      <td>joroKr21</td>\n",
       "      <td>2018-01-10 00:45:57+00:00</td>\n",
       "      <td>2018-1</td>\n",
       "    </tr>\n",
       "  </tbody>\n",
       "</table>\n",
       "</div>"
      ],
      "text/plain": [
       "         pid         user                      date month_year\n",
       "0  163314316       hrhino 2018-01-16 23:29:16+00:00     2018-1\n",
       "1  163061502     joroKr21 2018-01-15 23:44:52+00:00     2018-1\n",
       "2  163057333    mkeskells 2018-01-15 23:05:06+00:00     2018-1\n",
       "3  162985594        lrytz 2018-01-15 15:52:39+00:00     2018-1\n",
       "4  162838837    zuvizudar 2018-01-14 19:16:16+00:00     2018-1\n",
       "5  162765232  howtonotwin 2018-01-13 04:37:17+00:00     2018-1\n",
       "6  162643301       hrhino 2018-01-12 14:29:49+00:00     2018-1\n",
       "7  162256029    mkeskells 2018-01-10 23:20:03+00:00     2018-1\n",
       "8  162197834    SethTisue 2018-01-10 18:31:25+00:00     2018-1\n",
       "9  162011899     joroKr21 2018-01-10 00:45:57+00:00     2018-1"
      ]
     },
     "metadata": {},
     "output_type": "display_data"
    },
    {
     "data": {
      "text/html": [
       "<div>\n",
       "<style scoped>\n",
       "    .dataframe tbody tr th:only-of-type {\n",
       "        vertical-align: middle;\n",
       "    }\n",
       "\n",
       "    .dataframe tbody tr th {\n",
       "        vertical-align: top;\n",
       "    }\n",
       "\n",
       "    .dataframe thead th {\n",
       "        text-align: right;\n",
       "    }\n",
       "</style>\n",
       "<table border=\"1\" class=\"dataframe\">\n",
       "  <thead>\n",
       "    <tr style=\"text-align: right;\">\n",
       "      <th></th>\n",
       "      <th>pid</th>\n",
       "      <th>user</th>\n",
       "      <th>date</th>\n",
       "      <th>month_year</th>\n",
       "      <th>file</th>\n",
       "    </tr>\n",
       "  </thead>\n",
       "  <tbody>\n",
       "    <tr>\n",
       "      <td>0</td>\n",
       "      <td>163314316</td>\n",
       "      <td>hrhino</td>\n",
       "      <td>2018-01-16 23:29:16+00:00</td>\n",
       "      <td>2018-1</td>\n",
       "      <td>test/files/pos/t5638/Among.java</td>\n",
       "    </tr>\n",
       "    <tr>\n",
       "      <td>1</td>\n",
       "      <td>163314316</td>\n",
       "      <td>hrhino</td>\n",
       "      <td>2018-01-16 23:29:16+00:00</td>\n",
       "      <td>2018-1</td>\n",
       "      <td>test/files/pos/t5638/Usage.scala</td>\n",
       "    </tr>\n",
       "    <tr>\n",
       "      <td>2</td>\n",
       "      <td>163314316</td>\n",
       "      <td>hrhino</td>\n",
       "      <td>2018-01-16 23:29:16+00:00</td>\n",
       "      <td>2018-1</td>\n",
       "      <td>test/files/pos/t9291.scala</td>\n",
       "    </tr>\n",
       "    <tr>\n",
       "      <td>3</td>\n",
       "      <td>163314316</td>\n",
       "      <td>hrhino</td>\n",
       "      <td>2018-01-16 23:29:16+00:00</td>\n",
       "      <td>2018-1</td>\n",
       "      <td>test/files/run/t8348.check</td>\n",
       "    </tr>\n",
       "    <tr>\n",
       "      <td>4</td>\n",
       "      <td>163314316</td>\n",
       "      <td>hrhino</td>\n",
       "      <td>2018-01-16 23:29:16+00:00</td>\n",
       "      <td>2018-1</td>\n",
       "      <td>test/files/run/t8348/TableColumn.java</td>\n",
       "    </tr>\n",
       "    <tr>\n",
       "      <td>5</td>\n",
       "      <td>163314316</td>\n",
       "      <td>hrhino</td>\n",
       "      <td>2018-01-16 23:29:16+00:00</td>\n",
       "      <td>2018-1</td>\n",
       "      <td>test/files/run/t8348/TableColumnImpl.java</td>\n",
       "    </tr>\n",
       "    <tr>\n",
       "      <td>6</td>\n",
       "      <td>163314316</td>\n",
       "      <td>hrhino</td>\n",
       "      <td>2018-01-16 23:29:16+00:00</td>\n",
       "      <td>2018-1</td>\n",
       "      <td>test/files/run/t8348/Test.scala</td>\n",
       "    </tr>\n",
       "    <tr>\n",
       "      <td>7</td>\n",
       "      <td>163061502</td>\n",
       "      <td>joroKr21</td>\n",
       "      <td>2018-01-15 23:44:52+00:00</td>\n",
       "      <td>2018-1</td>\n",
       "      <td>src/library/scala/concurrent/Lock.scala</td>\n",
       "    </tr>\n",
       "    <tr>\n",
       "      <td>8</td>\n",
       "      <td>163057333</td>\n",
       "      <td>mkeskells</td>\n",
       "      <td>2018-01-15 23:05:06+00:00</td>\n",
       "      <td>2018-1</td>\n",
       "      <td>src/compiler/scala/tools/nsc/profile/AsyncHelp...</td>\n",
       "    </tr>\n",
       "    <tr>\n",
       "      <td>9</td>\n",
       "      <td>163057333</td>\n",
       "      <td>mkeskells</td>\n",
       "      <td>2018-01-15 23:05:06+00:00</td>\n",
       "      <td>2018-1</td>\n",
       "      <td>src/compiler/scala/tools/nsc/profile/Profiler....</td>\n",
       "    </tr>\n",
       "    <tr>\n",
       "      <td>10</td>\n",
       "      <td>162985594</td>\n",
       "      <td>lrytz</td>\n",
       "      <td>2018-01-15 15:52:39+00:00</td>\n",
       "      <td>2018-1</td>\n",
       "      <td>src/compiler/scala/tools/nsc/backend/jvm/BCode...</td>\n",
       "    </tr>\n",
       "    <tr>\n",
       "      <td>11</td>\n",
       "      <td>162985594</td>\n",
       "      <td>lrytz</td>\n",
       "      <td>2018-01-15 15:52:39+00:00</td>\n",
       "      <td>2018-1</td>\n",
       "      <td>src/compiler/scala/tools/nsc/symtab/classfile/...</td>\n",
       "    </tr>\n",
       "    <tr>\n",
       "      <td>12</td>\n",
       "      <td>162985594</td>\n",
       "      <td>lrytz</td>\n",
       "      <td>2018-01-15 15:52:39+00:00</td>\n",
       "      <td>2018-1</td>\n",
       "      <td>src/reflect/scala/reflect/internal/pickling/By...</td>\n",
       "    </tr>\n",
       "    <tr>\n",
       "      <td>13</td>\n",
       "      <td>162838837</td>\n",
       "      <td>zuvizudar</td>\n",
       "      <td>2018-01-14 19:16:16+00:00</td>\n",
       "      <td>2018-1</td>\n",
       "      <td>src/compiler/scala/reflect/reify/phases/Calcul...</td>\n",
       "    </tr>\n",
       "    <tr>\n",
       "      <td>14</td>\n",
       "      <td>162765232</td>\n",
       "      <td>howtonotwin</td>\n",
       "      <td>2018-01-13 04:37:17+00:00</td>\n",
       "      <td>2018-1</td>\n",
       "      <td>src/library/scala/Predef.scala</td>\n",
       "    </tr>\n",
       "    <tr>\n",
       "      <td>15</td>\n",
       "      <td>162765232</td>\n",
       "      <td>howtonotwin</td>\n",
       "      <td>2018-01-13 04:37:17+00:00</td>\n",
       "      <td>2018-1</td>\n",
       "      <td>test/files/neg/leibniz-liskov.check</td>\n",
       "    </tr>\n",
       "    <tr>\n",
       "      <td>16</td>\n",
       "      <td>162765232</td>\n",
       "      <td>howtonotwin</td>\n",
       "      <td>2018-01-13 04:37:17+00:00</td>\n",
       "      <td>2018-1</td>\n",
       "      <td>test/files/neg/leibniz-liskov.scala</td>\n",
       "    </tr>\n",
       "    <tr>\n",
       "      <td>17</td>\n",
       "      <td>162765232</td>\n",
       "      <td>howtonotwin</td>\n",
       "      <td>2018-01-13 04:37:17+00:00</td>\n",
       "      <td>2018-1</td>\n",
       "      <td>test/files/pos/leibniz-liskov.scala</td>\n",
       "    </tr>\n",
       "    <tr>\n",
       "      <td>18</td>\n",
       "      <td>162765232</td>\n",
       "      <td>howtonotwin</td>\n",
       "      <td>2018-01-13 04:37:17+00:00</td>\n",
       "      <td>2018-1</td>\n",
       "      <td>test/files/pos/leibniz_liskov.scala</td>\n",
       "    </tr>\n",
       "    <tr>\n",
       "      <td>19</td>\n",
       "      <td>162643301</td>\n",
       "      <td>hrhino</td>\n",
       "      <td>2018-01-12 14:29:49+00:00</td>\n",
       "      <td>2018-1</td>\n",
       "      <td>src/compiler/scala/tools/nsc/typechecker/Conte...</td>\n",
       "    </tr>\n",
       "    <tr>\n",
       "      <td>20</td>\n",
       "      <td>162643301</td>\n",
       "      <td>hrhino</td>\n",
       "      <td>2018-01-12 14:29:49+00:00</td>\n",
       "      <td>2018-1</td>\n",
       "      <td>test/files/pos/parallel-classloader.scala</td>\n",
       "    </tr>\n",
       "    <tr>\n",
       "      <td>21</td>\n",
       "      <td>162643301</td>\n",
       "      <td>hrhino</td>\n",
       "      <td>2018-01-12 14:29:49+00:00</td>\n",
       "      <td>2018-1</td>\n",
       "      <td>test/files/pos/t10568/Converter.java</td>\n",
       "    </tr>\n",
       "    <tr>\n",
       "      <td>22</td>\n",
       "      <td>162643301</td>\n",
       "      <td>hrhino</td>\n",
       "      <td>2018-01-12 14:29:49+00:00</td>\n",
       "      <td>2018-1</td>\n",
       "      <td>test/files/pos/t10568/Impl.scala</td>\n",
       "    </tr>\n",
       "    <tr>\n",
       "      <td>23</td>\n",
       "      <td>162256029</td>\n",
       "      <td>mkeskells</td>\n",
       "      <td>2018-01-10 23:20:03+00:00</td>\n",
       "      <td>2018-1</td>\n",
       "      <td>src/compiler/scala/tools/nsc/backend/jvm/PostP...</td>\n",
       "    </tr>\n",
       "    <tr>\n",
       "      <td>24</td>\n",
       "      <td>162256029</td>\n",
       "      <td>mkeskells</td>\n",
       "      <td>2018-01-10 23:20:03+00:00</td>\n",
       "      <td>2018-1</td>\n",
       "      <td>src/compiler/scala/tools/nsc/backend/jvm/analy...</td>\n",
       "    </tr>\n",
       "    <tr>\n",
       "      <td>25</td>\n",
       "      <td>162197834</td>\n",
       "      <td>SethTisue</td>\n",
       "      <td>2018-01-10 18:31:25+00:00</td>\n",
       "      <td>2018-1</td>\n",
       "      <td>LICENSE</td>\n",
       "    </tr>\n",
       "    <tr>\n",
       "      <td>26</td>\n",
       "      <td>162197834</td>\n",
       "      <td>SethTisue</td>\n",
       "      <td>2018-01-10 18:31:25+00:00</td>\n",
       "      <td>2018-1</td>\n",
       "      <td>doc/LICENSE.md</td>\n",
       "    </tr>\n",
       "    <tr>\n",
       "      <td>27</td>\n",
       "      <td>162197834</td>\n",
       "      <td>SethTisue</td>\n",
       "      <td>2018-01-10 18:31:25+00:00</td>\n",
       "      <td>2018-1</td>\n",
       "      <td>doc/License.rtf</td>\n",
       "    </tr>\n",
       "    <tr>\n",
       "      <td>28</td>\n",
       "      <td>162197834</td>\n",
       "      <td>SethTisue</td>\n",
       "      <td>2018-01-10 18:31:25+00:00</td>\n",
       "      <td>2018-1</td>\n",
       "      <td>project/VersionUtil.scala</td>\n",
       "    </tr>\n",
       "    <tr>\n",
       "      <td>29</td>\n",
       "      <td>162197834</td>\n",
       "      <td>SethTisue</td>\n",
       "      <td>2018-01-10 18:31:25+00:00</td>\n",
       "      <td>2018-1</td>\n",
       "      <td>src/library/scala/util/Properties.scala</td>\n",
       "    </tr>\n",
       "    <tr>\n",
       "      <td>30</td>\n",
       "      <td>162197834</td>\n",
       "      <td>SethTisue</td>\n",
       "      <td>2018-01-10 18:31:25+00:00</td>\n",
       "      <td>2018-1</td>\n",
       "      <td>src/scaladoc/scala/tools/nsc/doc/html/page/Ent...</td>\n",
       "    </tr>\n",
       "    <tr>\n",
       "      <td>31</td>\n",
       "      <td>162197834</td>\n",
       "      <td>SethTisue</td>\n",
       "      <td>2018-01-10 18:31:25+00:00</td>\n",
       "      <td>2018-1</td>\n",
       "      <td>src/scalap/decoder.properties</td>\n",
       "    </tr>\n",
       "    <tr>\n",
       "      <td>32</td>\n",
       "      <td>162011899</td>\n",
       "      <td>joroKr21</td>\n",
       "      <td>2018-01-10 00:45:57+00:00</td>\n",
       "      <td>2018-1</td>\n",
       "      <td>src/reflect/scala/reflect/internal/tpe/GlbLubs...</td>\n",
       "    </tr>\n",
       "    <tr>\n",
       "      <td>33</td>\n",
       "      <td>162011899</td>\n",
       "      <td>joroKr21</td>\n",
       "      <td>2018-01-10 00:45:57+00:00</td>\n",
       "      <td>2018-1</td>\n",
       "      <td>test/files/pos/t10686.scala</td>\n",
       "    </tr>\n",
       "  </tbody>\n",
       "</table>\n",
       "</div>"
      ],
      "text/plain": [
       "          pid         user                      date month_year  \\\n",
       "0   163314316       hrhino 2018-01-16 23:29:16+00:00     2018-1   \n",
       "1   163314316       hrhino 2018-01-16 23:29:16+00:00     2018-1   \n",
       "2   163314316       hrhino 2018-01-16 23:29:16+00:00     2018-1   \n",
       "3   163314316       hrhino 2018-01-16 23:29:16+00:00     2018-1   \n",
       "4   163314316       hrhino 2018-01-16 23:29:16+00:00     2018-1   \n",
       "5   163314316       hrhino 2018-01-16 23:29:16+00:00     2018-1   \n",
       "6   163314316       hrhino 2018-01-16 23:29:16+00:00     2018-1   \n",
       "7   163061502     joroKr21 2018-01-15 23:44:52+00:00     2018-1   \n",
       "8   163057333    mkeskells 2018-01-15 23:05:06+00:00     2018-1   \n",
       "9   163057333    mkeskells 2018-01-15 23:05:06+00:00     2018-1   \n",
       "10  162985594        lrytz 2018-01-15 15:52:39+00:00     2018-1   \n",
       "11  162985594        lrytz 2018-01-15 15:52:39+00:00     2018-1   \n",
       "12  162985594        lrytz 2018-01-15 15:52:39+00:00     2018-1   \n",
       "13  162838837    zuvizudar 2018-01-14 19:16:16+00:00     2018-1   \n",
       "14  162765232  howtonotwin 2018-01-13 04:37:17+00:00     2018-1   \n",
       "15  162765232  howtonotwin 2018-01-13 04:37:17+00:00     2018-1   \n",
       "16  162765232  howtonotwin 2018-01-13 04:37:17+00:00     2018-1   \n",
       "17  162765232  howtonotwin 2018-01-13 04:37:17+00:00     2018-1   \n",
       "18  162765232  howtonotwin 2018-01-13 04:37:17+00:00     2018-1   \n",
       "19  162643301       hrhino 2018-01-12 14:29:49+00:00     2018-1   \n",
       "20  162643301       hrhino 2018-01-12 14:29:49+00:00     2018-1   \n",
       "21  162643301       hrhino 2018-01-12 14:29:49+00:00     2018-1   \n",
       "22  162643301       hrhino 2018-01-12 14:29:49+00:00     2018-1   \n",
       "23  162256029    mkeskells 2018-01-10 23:20:03+00:00     2018-1   \n",
       "24  162256029    mkeskells 2018-01-10 23:20:03+00:00     2018-1   \n",
       "25  162197834    SethTisue 2018-01-10 18:31:25+00:00     2018-1   \n",
       "26  162197834    SethTisue 2018-01-10 18:31:25+00:00     2018-1   \n",
       "27  162197834    SethTisue 2018-01-10 18:31:25+00:00     2018-1   \n",
       "28  162197834    SethTisue 2018-01-10 18:31:25+00:00     2018-1   \n",
       "29  162197834    SethTisue 2018-01-10 18:31:25+00:00     2018-1   \n",
       "30  162197834    SethTisue 2018-01-10 18:31:25+00:00     2018-1   \n",
       "31  162197834    SethTisue 2018-01-10 18:31:25+00:00     2018-1   \n",
       "32  162011899     joroKr21 2018-01-10 00:45:57+00:00     2018-1   \n",
       "33  162011899     joroKr21 2018-01-10 00:45:57+00:00     2018-1   \n",
       "\n",
       "                                                 file  \n",
       "0                     test/files/pos/t5638/Among.java  \n",
       "1                    test/files/pos/t5638/Usage.scala  \n",
       "2                          test/files/pos/t9291.scala  \n",
       "3                          test/files/run/t8348.check  \n",
       "4               test/files/run/t8348/TableColumn.java  \n",
       "5           test/files/run/t8348/TableColumnImpl.java  \n",
       "6                     test/files/run/t8348/Test.scala  \n",
       "7             src/library/scala/concurrent/Lock.scala  \n",
       "8   src/compiler/scala/tools/nsc/profile/AsyncHelp...  \n",
       "9   src/compiler/scala/tools/nsc/profile/Profiler....  \n",
       "10  src/compiler/scala/tools/nsc/backend/jvm/BCode...  \n",
       "11  src/compiler/scala/tools/nsc/symtab/classfile/...  \n",
       "12  src/reflect/scala/reflect/internal/pickling/By...  \n",
       "13  src/compiler/scala/reflect/reify/phases/Calcul...  \n",
       "14                     src/library/scala/Predef.scala  \n",
       "15                test/files/neg/leibniz-liskov.check  \n",
       "16                test/files/neg/leibniz-liskov.scala  \n",
       "17                test/files/pos/leibniz-liskov.scala  \n",
       "18                test/files/pos/leibniz_liskov.scala  \n",
       "19  src/compiler/scala/tools/nsc/typechecker/Conte...  \n",
       "20          test/files/pos/parallel-classloader.scala  \n",
       "21               test/files/pos/t10568/Converter.java  \n",
       "22                   test/files/pos/t10568/Impl.scala  \n",
       "23  src/compiler/scala/tools/nsc/backend/jvm/PostP...  \n",
       "24  src/compiler/scala/tools/nsc/backend/jvm/analy...  \n",
       "25                                            LICENSE  \n",
       "26                                     doc/LICENSE.md  \n",
       "27                                    doc/License.rtf  \n",
       "28                          project/VersionUtil.scala  \n",
       "29            src/library/scala/util/Properties.scala  \n",
       "30  src/scaladoc/scala/tools/nsc/doc/html/page/Ent...  \n",
       "31                      src/scalap/decoder.properties  \n",
       "32  src/reflect/scala/reflect/internal/tpe/GlbLubs...  \n",
       "33                        test/files/pos/t10686.scala  "
      ]
     },
     "metadata": {},
     "output_type": "display_data"
    },
    {
     "data": {
      "text/plain": [
       "array(['test/files/pos/t5638/Among.java',\n",
       "       'test/files/pos/t5638/Usage.scala', 'test/files/pos/t9291.scala',\n",
       "       'test/files/run/t8348.check',\n",
       "       'test/files/run/t8348/TableColumn.java',\n",
       "       'test/files/run/t8348/TableColumnImpl.java',\n",
       "       'test/files/run/t8348/Test.scala',\n",
       "       'src/library/scala/concurrent/Lock.scala',\n",
       "       'src/compiler/scala/tools/nsc/profile/AsyncHelper.scala',\n",
       "       'src/compiler/scala/tools/nsc/profile/Profiler.scala',\n",
       "       'src/compiler/scala/tools/nsc/backend/jvm/BCodeHelpers.scala',\n",
       "       'src/compiler/scala/tools/nsc/symtab/classfile/ClassfileParser.scala',\n",
       "       'src/reflect/scala/reflect/internal/pickling/ByteCodecs.scala',\n",
       "       'src/compiler/scala/reflect/reify/phases/Calculate.scala',\n",
       "       'src/library/scala/Predef.scala',\n",
       "       'test/files/neg/leibniz-liskov.check',\n",
       "       'test/files/neg/leibniz-liskov.scala',\n",
       "       'test/files/pos/leibniz-liskov.scala',\n",
       "       'test/files/pos/leibniz_liskov.scala',\n",
       "       'src/compiler/scala/tools/nsc/typechecker/Contexts.scala',\n",
       "       'test/files/pos/parallel-classloader.scala',\n",
       "       'test/files/pos/t10568/Converter.java',\n",
       "       'test/files/pos/t10568/Impl.scala',\n",
       "       'src/compiler/scala/tools/nsc/backend/jvm/PostProcessor.scala',\n",
       "       'src/compiler/scala/tools/nsc/backend/jvm/analysis/BackendUtils.scala',\n",
       "       'LICENSE', 'doc/LICENSE.md', 'doc/License.rtf',\n",
       "       'project/VersionUtil.scala',\n",
       "       'src/library/scala/util/Properties.scala',\n",
       "       'src/scaladoc/scala/tools/nsc/doc/html/page/Entity.scala',\n",
       "       'src/scalap/decoder.properties',\n",
       "       'src/reflect/scala/reflect/internal/tpe/GlbLubs.scala',\n",
       "       'test/files/pos/t10686.scala'], dtype=object)"
      ]
     },
     "execution_count": 125,
     "metadata": {},
     "output_type": "execute_result"
    }
   ],
   "source": [
    "display(pulls.info())\n",
    "display(pull_files.head(10))\n",
    "# Identify the last 10 pull requests\n",
    "last_10 = pulls.nlargest(10,'date')\n",
    "display(last_10)\n",
    "# Join the two data sets\n",
    "joined_pr = pd.merge(last_10,pull_files, on='pid')\n",
    "display(joined_pr)\n",
    "# Identify the unique files\n",
    "files = joined_pr['file'].unique()\n",
    "\n",
    "# Print the results\n",
    "files"
   ]
  },
  {
   "cell_type": "markdown",
   "metadata": {
    "dc": {
     "key": "47"
    },
    "deletable": false,
    "editable": false,
    "run_control": {
     "frozen": true
    },
    "tags": [
     "context"
    ]
   },
   "source": [
    "## 7. Who made the most pull requests to a given file?\n",
    "<p>When contributing to a project, we might need some guidance. We might find ourselves needing some information regarding the codebase. It is important direct any questions to the right person. Contributors to open source projects generally have other day jobs, so their time is limited. It is important to address our questions to the right people. One way to identify the right target for our inquiries is by using their contribution history.</p>\n",
    "<p>We identified <code>src/compiler/scala/reflect/reify/phases/Calculate.scala</code> as being recently changed. We are interested in the top 3 developers who changed that file. Those developers are the ones most likely to have the best understanding of the code.</p>"
   ]
  },
  {
   "cell_type": "code",
   "execution_count": 126,
   "metadata": {
    "dc": {
     "key": "47"
    },
    "tags": [
     "sample_code"
    ]
   },
   "outputs": [
    {
     "data": {
      "text/html": [
       "<div>\n",
       "<style scoped>\n",
       "    .dataframe tbody tr th:only-of-type {\n",
       "        vertical-align: middle;\n",
       "    }\n",
       "\n",
       "    .dataframe tbody tr th {\n",
       "        vertical-align: top;\n",
       "    }\n",
       "\n",
       "    .dataframe thead th {\n",
       "        text-align: right;\n",
       "    }\n",
       "</style>\n",
       "<table border=\"1\" class=\"dataframe\">\n",
       "  <thead>\n",
       "    <tr style=\"text-align: right;\">\n",
       "      <th></th>\n",
       "      <th>pid</th>\n",
       "      <th>date</th>\n",
       "      <th>file</th>\n",
       "    </tr>\n",
       "    <tr>\n",
       "      <th>user</th>\n",
       "      <th></th>\n",
       "      <th></th>\n",
       "      <th></th>\n",
       "    </tr>\n",
       "  </thead>\n",
       "  <tbody>\n",
       "    <tr>\n",
       "      <td>xeno-by</td>\n",
       "      <td>11</td>\n",
       "      <td>11</td>\n",
       "      <td>11</td>\n",
       "    </tr>\n",
       "    <tr>\n",
       "      <td>retronym</td>\n",
       "      <td>5</td>\n",
       "      <td>5</td>\n",
       "      <td>5</td>\n",
       "    </tr>\n",
       "    <tr>\n",
       "      <td>soc</td>\n",
       "      <td>4</td>\n",
       "      <td>4</td>\n",
       "      <td>4</td>\n",
       "    </tr>\n",
       "  </tbody>\n",
       "</table>\n",
       "</div>"
      ],
      "text/plain": [
       "          pid  date  file\n",
       "user                     \n",
       "xeno-by    11    11    11\n",
       "retronym    5     5     5\n",
       "soc         4     4     4"
      ]
     },
     "execution_count": 126,
     "metadata": {},
     "output_type": "execute_result"
    }
   ],
   "source": [
    "# This is the file we are interested in:\n",
    "file = 'src/compiler/scala/reflect/reify/phases/Calculate.scala'\n",
    "\n",
    "# Identify the commits that changed the file\n",
    "file_pr = data[data['file']==file]\n",
    "\n",
    "# Count the number of changes made by each developer\n",
    "author_counts = file_pr.groupby('user').count()\n",
    "\n",
    "# Print the top 3 developers\n",
    "author_counts.nlargest(3,'file')"
   ]
  },
  {
   "cell_type": "markdown",
   "metadata": {
    "dc": {
     "key": "54"
    },
    "deletable": false,
    "editable": false,
    "run_control": {
     "frozen": true
    },
    "tags": [
     "context"
    ]
   },
   "source": [
    "## 8. Who made the last ten pull requests on a given file?\n",
    "<p>Open source projects suffer from fluctuating membership. This makes the problem of finding the right person more challenging: the person has to be knowledgeable <em>and</em> still be involved in the project. A person that contributed a lot in the past might no longer be available (or willing) to help. To get a better understanding, we need to investigate the more recent history of that particular part of the system. </p>\n",
    "<p>Like in the previous task, we will look at the history of  <code>src/compiler/scala/reflect/reify/phases/Calculate.scala</code>.</p>"
   ]
  },
  {
   "cell_type": "code",
   "execution_count": 127,
   "metadata": {
    "dc": {
     "key": "54"
    },
    "tags": [
     "sample_code"
    ]
   },
   "outputs": [
    {
     "data": {
      "text/plain": [
       "{'bjornregnell', 'retronym', 'soc', 'starblood', 'xeno-by', 'zuvizudar'}"
      ]
     },
     "execution_count": 127,
     "metadata": {},
     "output_type": "execute_result"
    }
   ],
   "source": [
    "file = 'src/compiler/scala/reflect/reify/phases/Calculate.scala'\n",
    "\n",
    "# Select the pull requests that changed the target file\n",
    "file_pr = data[data['file']==file]\n",
    "\n",
    "# Merge the obtained results with the pulls DataFrame\n",
    "joined_pr = pd.merge(data,file_pr)\n",
    "\n",
    "# Find the users of the last 10 most recent pull requests\n",
    "users_last_10 = set(joined_pr.nlargest(10,'date')['user'])\n",
    "\n",
    "# Printing the results\n",
    "users_last_10"
   ]
  },
  {
   "cell_type": "markdown",
   "metadata": {
    "dc": {
     "key": "61"
    },
    "deletable": false,
    "editable": false,
    "run_control": {
     "frozen": true
    },
    "tags": [
     "context"
    ]
   },
   "source": [
    "## 9. The pull requests of two special developers\n",
    "<p>Now that we have identified two potential contacts in the projects, we need to find the person who was most involved in the project in recent times. That person is most likely to answer our questions. For each calendar year, we are interested in understanding the number of pull requests the authors submitted. This will give us a high-level image of their contribution trend to the project.</p>"
   ]
  },
  {
   "cell_type": "code",
   "execution_count": 128,
   "metadata": {
    "dc": {
     "key": "61"
    },
    "tags": [
     "sample_code"
    ]
   },
   "outputs": [
    {
     "data": {
      "image/png": "[encoded data removed]",
      "text/plain": [
       "<Figure size 432x288 with 1 Axes>"
      ]
     },
     "metadata": {
      "needs_background": "light"
     },
     "output_type": "display_data"
    }
   ],
   "source": [
    "%matplotlib inline\n",
    "\n",
    "# The developers we are interested in\n",
    "authors = ['xeno-by', 'soc']\n",
    "\n",
    "# Get all the developers' pull requests\n",
    "by_author = pulls[pulls['user'].isin(authors)]\n",
    "\n",
    "# Count the number of pull requests submitted each year\n",
    "counts = by_author.groupby(['user', by_author['date'].dt.year]).agg({'pid': 'count'}).reset_index()\n",
    "\n",
    "# Convert the table to a wide format\n",
    "counts_wide = counts.pivot_table(index='date', columns='user', values='pid', fill_value=0)\n",
    "\n",
    "# Plot the results\n",
    "counts_wide.plot(kind='bar')\n",
    "plt.show()"
   ]
  },
  {
   "cell_type": "markdown",
   "metadata": {
    "dc": {
     "key": "68"
    },
    "deletable": false,
    "editable": false,
    "run_control": {
     "frozen": true
    },
    "tags": [
     "context"
    ]
   },
   "source": [
    "## 10. Visualizing the contributions of each developer\n",
    "<p>As mentioned before, it is important to make a distinction between the global expertise and contribution levels and the contribution levels at a more granular level (file, submodule, etc.) In our case, we want to see which of our two developers of interest have the most experience with the code in a given file. We will measure experience by the number of pull requests submitted that affect that file and how recent those pull requests were submitted.</p>"
   ]
  },
  {
   "cell_type": "code",
   "execution_count": 105,
   "metadata": {
    "dc": {
     "key": "68"
    },
    "tags": [
     "sample_code"
    ]
   },
   "outputs": [
    {
     "data": {
      "text/html": [
       "<div>\n",
       "<style scoped>\n",
       "    .dataframe tbody tr th:only-of-type {\n",
       "        vertical-align: middle;\n",
       "    }\n",
       "\n",
       "    .dataframe tbody tr th {\n",
       "        vertical-align: top;\n",
       "    }\n",
       "\n",
       "    .dataframe thead th {\n",
       "        text-align: right;\n",
       "    }\n",
       "</style>\n",
       "<table border=\"1\" class=\"dataframe\">\n",
       "  <thead>\n",
       "    <tr style=\"text-align: right;\">\n",
       "      <th></th>\n",
       "      <th>user</th>\n",
       "      <th>date</th>\n",
       "      <th>pid</th>\n",
       "    </tr>\n",
       "  </thead>\n",
       "  <tbody>\n",
       "    <tr>\n",
       "      <td>0</td>\n",
       "      <td>bjornregnell</td>\n",
       "      <td>2013</td>\n",
       "      <td>1</td>\n",
       "    </tr>\n",
       "    <tr>\n",
       "      <td>1</td>\n",
       "      <td>densh</td>\n",
       "      <td>2012</td>\n",
       "      <td>1</td>\n",
       "    </tr>\n",
       "    <tr>\n",
       "      <td>2</td>\n",
       "      <td>gkossakowski</td>\n",
       "      <td>2013</td>\n",
       "      <td>1</td>\n",
       "    </tr>\n",
       "    <tr>\n",
       "      <td>3</td>\n",
       "      <td>melloc</td>\n",
       "      <td>2013</td>\n",
       "      <td>1</td>\n",
       "    </tr>\n",
       "    <tr>\n",
       "      <td>4</td>\n",
       "      <td>odersky</td>\n",
       "      <td>2012</td>\n",
       "      <td>2</td>\n",
       "    </tr>\n",
       "    <tr>\n",
       "      <td>5</td>\n",
       "      <td>paulp</td>\n",
       "      <td>2012</td>\n",
       "      <td>2</td>\n",
       "    </tr>\n",
       "    <tr>\n",
       "      <td>6</td>\n",
       "      <td>retronym</td>\n",
       "      <td>2013</td>\n",
       "      <td>4</td>\n",
       "    </tr>\n",
       "    <tr>\n",
       "      <td>7</td>\n",
       "      <td>retronym</td>\n",
       "      <td>2014</td>\n",
       "      <td>1</td>\n",
       "    </tr>\n",
       "    <tr>\n",
       "      <td>8</td>\n",
       "      <td>soc</td>\n",
       "      <td>2012</td>\n",
       "      <td>2</td>\n",
       "    </tr>\n",
       "    <tr>\n",
       "      <td>9</td>\n",
       "      <td>soc</td>\n",
       "      <td>2013</td>\n",
       "      <td>2</td>\n",
       "    </tr>\n",
       "    <tr>\n",
       "      <td>10</td>\n",
       "      <td>starblood</td>\n",
       "      <td>2013</td>\n",
       "      <td>1</td>\n",
       "    </tr>\n",
       "    <tr>\n",
       "      <td>11</td>\n",
       "      <td>xeno-by</td>\n",
       "      <td>2012</td>\n",
       "      <td>10</td>\n",
       "    </tr>\n",
       "    <tr>\n",
       "      <td>12</td>\n",
       "      <td>xeno-by</td>\n",
       "      <td>2014</td>\n",
       "      <td>1</td>\n",
       "    </tr>\n",
       "    <tr>\n",
       "      <td>13</td>\n",
       "      <td>zuvizudar</td>\n",
       "      <td>2018</td>\n",
       "      <td>1</td>\n",
       "    </tr>\n",
       "  </tbody>\n",
       "</table>\n",
       "</div>"
      ],
      "text/plain": [
       "            user  date  pid\n",
       "0   bjornregnell  2013    1\n",
       "1          densh  2012    1\n",
       "2   gkossakowski  2013    1\n",
       "3         melloc  2013    1\n",
       "4        odersky  2012    2\n",
       "5          paulp  2012    2\n",
       "6       retronym  2013    4\n",
       "7       retronym  2014    1\n",
       "8            soc  2012    2\n",
       "9            soc  2013    2\n",
       "10     starblood  2013    1\n",
       "11       xeno-by  2012   10\n",
       "12       xeno-by  2014    1\n",
       "13     zuvizudar  2018    1"
      ]
     },
     "metadata": {},
     "output_type": "display_data"
    },
    {
     "data": {
      "text/html": [
       "<div>\n",
       "<style scoped>\n",
       "    .dataframe tbody tr th:only-of-type {\n",
       "        vertical-align: middle;\n",
       "    }\n",
       "\n",
       "    .dataframe tbody tr th {\n",
       "        vertical-align: top;\n",
       "    }\n",
       "\n",
       "    .dataframe thead th {\n",
       "        text-align: right;\n",
       "    }\n",
       "</style>\n",
       "<table border=\"1\" class=\"dataframe\">\n",
       "  <thead>\n",
       "    <tr style=\"text-align: right;\">\n",
       "      <th>user</th>\n",
       "      <th>bjornregnell</th>\n",
       "      <th>densh</th>\n",
       "      <th>gkossakowski</th>\n",
       "      <th>melloc</th>\n",
       "      <th>odersky</th>\n",
       "      <th>paulp</th>\n",
       "      <th>retronym</th>\n",
       "      <th>soc</th>\n",
       "      <th>starblood</th>\n",
       "      <th>xeno-by</th>\n",
       "      <th>zuvizudar</th>\n",
       "    </tr>\n",
       "    <tr>\n",
       "      <th>date</th>\n",
       "      <th></th>\n",
       "      <th></th>\n",
       "      <th></th>\n",
       "      <th></th>\n",
       "      <th></th>\n",
       "      <th></th>\n",
       "      <th></th>\n",
       "      <th></th>\n",
       "      <th></th>\n",
       "      <th></th>\n",
       "      <th></th>\n",
       "    </tr>\n",
       "  </thead>\n",
       "  <tbody>\n",
       "    <tr>\n",
       "      <td>2012</td>\n",
       "      <td>0</td>\n",
       "      <td>1</td>\n",
       "      <td>0</td>\n",
       "      <td>0</td>\n",
       "      <td>2</td>\n",
       "      <td>2</td>\n",
       "      <td>0</td>\n",
       "      <td>2</td>\n",
       "      <td>0</td>\n",
       "      <td>10</td>\n",
       "      <td>0</td>\n",
       "    </tr>\n",
       "    <tr>\n",
       "      <td>2013</td>\n",
       "      <td>1</td>\n",
       "      <td>0</td>\n",
       "      <td>1</td>\n",
       "      <td>1</td>\n",
       "      <td>0</td>\n",
       "      <td>0</td>\n",
       "      <td>4</td>\n",
       "      <td>2</td>\n",
       "      <td>1</td>\n",
       "      <td>0</td>\n",
       "      <td>0</td>\n",
       "    </tr>\n",
       "    <tr>\n",
       "      <td>2014</td>\n",
       "      <td>0</td>\n",
       "      <td>0</td>\n",
       "      <td>0</td>\n",
       "      <td>0</td>\n",
       "      <td>0</td>\n",
       "      <td>0</td>\n",
       "      <td>1</td>\n",
       "      <td>0</td>\n",
       "      <td>0</td>\n",
       "      <td>1</td>\n",
       "      <td>0</td>\n",
       "    </tr>\n",
       "    <tr>\n",
       "      <td>2018</td>\n",
       "      <td>0</td>\n",
       "      <td>0</td>\n",
       "      <td>0</td>\n",
       "      <td>0</td>\n",
       "      <td>0</td>\n",
       "      <td>0</td>\n",
       "      <td>0</td>\n",
       "      <td>0</td>\n",
       "      <td>0</td>\n",
       "      <td>0</td>\n",
       "      <td>1</td>\n",
       "    </tr>\n",
       "  </tbody>\n",
       "</table>\n",
       "</div>"
      ],
      "text/plain": [
       "user  bjornregnell  densh  gkossakowski  melloc  odersky  paulp  retronym  \\\n",
       "date                                                                        \n",
       "2012             0      1             0       0        2      2         0   \n",
       "2013             1      0             1       1        0      0         4   \n",
       "2014             0      0             0       0        0      0         1   \n",
       "2018             0      0             0       0        0      0         0   \n",
       "\n",
       "user  soc  starblood  xeno-by  zuvizudar  \n",
       "date                                      \n",
       "2012    2          0       10          0  \n",
       "2013    2          1        0          0  \n",
       "2014    0          0        1          0  \n",
       "2018    0          0        0          1  "
      ]
     },
     "metadata": {},
     "output_type": "display_data"
    },
    {
     "data": {
      "text/plain": [
       "<matplotlib.axes._subplots.AxesSubplot at 0x8dbc2f0>"
      ]
     },
     "execution_count": 105,
     "metadata": {},
     "output_type": "execute_result"
    },
    {
     "data": {
      "image/png": "[encoded data removed]",
      "text/plain": [
       "<Figure size 432x288 with 1 Axes>"
      ]
     },
     "metadata": {
      "needs_background": "light"
     },
     "output_type": "display_data"
    }
   ],
   "source": [
    "authors = ['xeno-by', 'soc']\n",
    "file = 'src/compiler/scala/reflect/reify/phases/Calculate.scala'\n",
    "\n",
    "# Select the pull requests submitted by the authors, from the `data` DataFrame\n",
    "by_author = data[data['user'].isin(authors)]\n",
    "\n",
    "# Select the pull requests that affect the file\n",
    "by_file = data[data['file'] == file]\n",
    "\n",
    "# Group and count the number of PRs done by each user each year\n",
    "grouped = by_file.groupby(['user', by_file['date'].dt.year]).count()['pid'].reset_index()\n",
    "\n",
    "# Transform the data into a wide format\n",
    "by_file_wide = grouped.pivot_table(index='date',columns='user', values='pid', fill_value=0)\n",
    "\n",
    "# Plot the results\n",
    "by_file_wide.plot(kind='bar')"
   ]
  },
  {
   "cell_type": "code",
   "execution_count": null,
   "metadata": {},
   "outputs": [],
   "source": []
  }
 ],
 "metadata": {
  "kernelspec": {
   "display_name": "Python 3",
   "language": "python",
   "name": "python3"
  },
  "language_info": {
   "codemirror_mode": {
    "name": "ipython",
    "version": 3
   },
   "file_extension": ".py",
   "mimetype": "text/x-python",
   "name": "python",
   "nbconvert_exporter": "python",
   "pygments_lexer": "ipython3",
   "version": "3.7.4"
  }
 },
 "nbformat": 4,
 "nbformat_minor": 2
}
